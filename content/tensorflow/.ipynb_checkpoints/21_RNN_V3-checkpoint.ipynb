{
 "cells": [
  {
   "cell_type": "markdown",
   "metadata": {},
   "source": [
    "---\n",
    "title: Recurrent Neural Network\n",
    "author: Thomas\n",
    "date: '2018-08-29'\n",
    "slug: rnn\n",
    "categories: []\n",
    "tags:\n",
    "  - deep_tf\n",
    "header:\n",
    "    caption: ''\n",
    "    image: ''\n",
    "---\n",
    "\n",
    "# What do we need an RNN?\n",
    "\n",
    "The structure of an Artificial Neural Network is relatively simple and\n",
    "is mainly about matrice multiplication. During the first step, inputs\n",
    "are multiplied by initially random weights, and bias, transformed with\n",
    "an activation function and the output values are used to make a\n",
    "prediction. This step gives an idea of how far the network is from the\n",
    "reality.\n",
    "\n",
    "The metric applied is the loss. The higher the loss function, the dumber\n",
    "the model is. To improve the knowledge of the network, some optimization\n",
    "is required by adjusting the weights of the net. The stochastic gradient\n",
    "descent is the method employed to change the values of the weights in\n",
    "the rights direction. Once the adjustment is made, the network can use\n",
    "another batch of data to test its new knowledge.\n",
    "\n",
    "The error, fortunately, is lower than before, yet not small enough. The\n",
    "optimization step is done iteratively until the error is minimized,\n",
    "i.e., no more information can be extracted.\n",
    "\n",
    "The problem with this type of model is, it does not have any memory. It\n",
    "means the input and output are independent. In other words, the model\n",
    "does not care about what came before. It raises some question when you\n",
    "need to predict time series or sentences because the network needs to\n",
    "have information about the historical data or past words.\n",
    "\n",
    "To overcome this issue, a new type of architecture has been developed:\n",
    "Recurrent Neural network (RNN hereafter)\n",
    "\n",
    "## What is a Recurrent Neural Network (RNN)?\n",
    "\n",
    "A recurrent neural network looks quite similar to a traditional neural\n",
    "network except that a memory-state is added to the neurons. The\n",
    "computation to include a memory is simple.\n",
    "\n",
    "Imagine a simple model with only one neuron feeds by a batch of data. In\n",
    "a traditional neural net, the model produces the output by multiplying\n",
    "the input with the weight and the activation function. With an RNN, this\n",
    "output is sent back to itself $n$ number of time. We call **timestep**\n",
    "the amount of time the output becomes the input of the next matrice\n",
    "multiplication.\n",
    "\n",
    "For instance, in the picture below, you can see the network is composed\n",
    "of one neuron. The network computes the matrices multiplication between\n",
    "the input and the weight and adds non-linearity with the activation\n",
    "function. It becomes the output at t-1. This output is the input of the\n",
    "second matrices multiplication.\n",
    "\n",
    "<img src=\"/tensorflow/21_RNN_V3_files/image001.png\" >\n",
    "\n",
    "Below, we code a simple RNN in tensorflow to understand the step and\n",
    "also the shape of the output.\n",
    "\n",
    "The network is composed of:\n",
    "\n",
    "-   Four inputs\n",
    "\n",
    "-   Six neurons\n",
    "\n",
    "-   2-time steps\n",
    "\n",
    "The network will proceed as depicted by the picture below.\n",
    "\n",
    "<img src=\"/tensorflow/21_RNN_V3_files/image002.png\" >\n",
    "\n",
    "The network is called ‘recurrent’ because it performs the same operation\n",
    "in each *activate square.* The network computed the weights of the\n",
    "inputs and the previous output before to use an activation function."
   ]
  },
  {
   "cell_type": "code",
   "execution_count": 1,
   "metadata": {},
   "outputs": [
    {
     "name": "stderr",
     "output_type": "stream",
     "text": [
      "/Users/Thomas/anaconda3/envs/hello-tf/lib/python3.6/importlib/_bootstrap.py:219: RuntimeWarning: compiletime version 3.5 of module 'tensorflow.python.framework.fast_tensor_util' does not match runtime version 3.6\n",
      "  return f(*args, **kwds)\n"
     ]
    }
   ],
   "source": [
    "import numpy as np\n",
    "import tensorflow as tf\n",
    "n_inputs = 4\n",
    "n_neurons = 6\n",
    "n_timesteps = 2"
   ]
  },
  {
   "cell_type": "markdown",
   "metadata": {},
   "source": [
    "The data is a sequence of a number from 0 to 9 and divided into three\n",
    "batches of data."
   ]
  },
  {
   "cell_type": "code",
   "execution_count": 2,
   "metadata": {},
   "outputs": [],
   "source": [
    "## Data \n",
    "X_batch = np.array([\n",
    "        [[0, 1, 2, 5], [9, 8, 7, 4]], # Batch 1\n",
    "        [[3, 4, 5, 2], [0, 0, 0, 0]], # Batch 2\n",
    "        [[6, 7, 8, 5], [6, 5, 4, 2]], # Batch 3\n",
    "    ])"
   ]
  },
  {
   "cell_type": "markdown",
   "metadata": {},
   "source": [
    "We can build the network with a placeholder for the data, the recurrent\n",
    "stage and the output.\n",
    "\n",
    "1)  Define the placeholder for the data\n",
    "\n",
    "`X = tf.placeholder(tf.float32, [None, n_timesteps, n_inputs])`\n",
    "\n",
    "Here:\n",
    "\n",
    "-   `None`: Unknown and will take the size of the batch\n",
    "\n",
    "-   `n_timesteps`: Number of time the network will send the output back\n",
    "    to the neuron\n",
    "\n",
    "-   `n_inputs`: Number of input per batch\n",
    "\n",
    "1)  Define the recurrent network\n",
    "\n",
    "As mentioned in the picture above, the network is composed of 6 neurons.\n",
    "The network will compute two dot product:\n",
    "\n",
    "-   Input data with the first set of weights (i.e., 6: equal to the\n",
    "    number of neurons)\n",
    "\n",
    "-   Previous output with a second set of weights (i.e., 6: corresponding\n",
    "    to the number of output)\n",
    "\n",
    "Note that, during the first feedforward, the values of the previous\n",
    "output are equal to zeroes because we don't have any value available.\n",
    "\n",
    "The object to build an RNN is `tf.contrib.rnn.BasicRNNCell` with the\n",
    "argument `num_units` to define the number of input\n",
    "\n",
    "`basic_cell = tf.contrib.rnn.BasicRNNCell(num_units=n_neurons)`\n",
    "\n",
    "Now that the network is defined, you can compute the\n",
    "`outputs ``and`` states`\n",
    "\n",
    "`outputs, states = tf.nn.dynamic_rnn(basic_cell, X, dtype=tf.float32)`\n",
    "\n",
    "This object uses an internal loop to multiply the matrices the\n",
    "appropriate number of times.\n",
    "\n",
    "Note that the recurent neuron is a function of all the inputs of the\n",
    "previous time steps. This is how the network build its own memory. The\n",
    "information from the previous time can propagate in future time. This is\n",
    "the magic of Recurrent neural network"
   ]
  },
  {
   "cell_type": "code",
   "execution_count": 3,
   "metadata": {},
   "outputs": [
    {
     "name": "stdout",
     "output_type": "stream",
     "text": [
      "[[-0.01141881 -0.9993419   0.999999   -0.999911   -0.07321455  1.        ]\n",
      " [-0.38122338 -0.55080926 -0.686599   -0.5300226  -0.35250324 -0.20524928]\n",
      " [-0.6672042  -0.9947337   0.9983108  -0.9989379  -0.55018294  0.99999976]]\n"
     ]
    }
   ],
   "source": [
    "## Define the shape of the tensor\n",
    "X = tf.placeholder(tf.float32, [None, n_timesteps, n_inputs])\n",
    "## Define the network\n",
    "basic_cell = tf.contrib.rnn.BasicRNNCell(num_units=n_neurons)\n",
    "outputs, states = tf.nn.dynamic_rnn(basic_cell, X, dtype=tf.float32)\n",
    "\n",
    "init = tf.global_variables_initializer()\n",
    "\n",
    "with tf.Session() as sess:\n",
    "    init.run()\n",
    "    outputs_val = outputs.eval(feed_dict={X: X_batch})\n",
    "    print(states.eval(feed_dict={X: X_batch}))"
   ]
  },
  {
   "cell_type": "markdown",
   "metadata": {},
   "source": [
    "For explanatory purposes, you print the values of the previous state. The output printed above shows the output from the last state. Now print all the output, you can notice the states are the previous output of each batch. That is, the previous output contains the information about the entire sequence.e"
   ]
  },
  {
   "cell_type": "code",
   "execution_count": 4,
   "metadata": {},
   "outputs": [
    {
     "name": "stdout",
     "output_type": "stream",
     "text": [
      "[[[ 0.8074513   0.597201    0.99747545 -0.86110324  0.32820693\n",
      "    0.9910063 ]\n",
      "  [-0.01141881 -0.9993419   0.999999   -0.999911   -0.07321455\n",
      "    1.        ]]\n",
      "\n",
      " [[-0.20380181 -0.9353911   0.99795854 -0.98219174 -0.6848514\n",
      "    0.9999962 ]\n",
      "  [-0.38122338 -0.55080926 -0.686599   -0.5300226  -0.35250324\n",
      "   -0.20524928]]\n",
      "\n",
      " [[ 0.11022258 -0.9893463   0.9999984  -0.9997549  -0.736353\n",
      "    1.        ]\n",
      "  [-0.6672042  -0.9947337   0.9983108  -0.9989379  -0.55018294\n",
      "    0.99999976]]]\n",
      "(3, 2, 6)\n"
     ]
    }
   ],
   "source": [
    "print(outputs_val)    \n",
    "print(outputs_val.shape)    "
   ]
  },
  {
   "cell_type": "markdown",
   "metadata": {},
   "source": [
    "<img src=\"/tensorflow/21_RNN_V3_files/image003.png\" >\n",
    "\n",
    "The output has the shape of (3, 2, 6):\n",
    "\n",
    "-   3: Number of batches\n",
    "\n",
    "-   2: Number of the timestep\n",
    "\n",
    "-   6: Number of neurons\n",
    "\n",
    "The optimization of a recurrent neural network is identical to a\n",
    "traditional neural network. You will see in more detail how to code\n",
    "optimization in the next part of this tutorial.\n",
    "\n",
    "## Applications of RNN\n",
    "\n",
    "RNN has multiple uses, especially when it comes to predicting the\n",
    "future. In the financial industry, RNN can be helpful in predicting\n",
    "stock prices or the sign of the stock market direction (i.e., positive\n",
    "or negative).\n",
    "\n",
    "RNN is useful for an autonomous car as it can avoid a car accident by\n",
    "anticipating the trajectory of the vehicle.\n",
    "\n",
    "RNN is widely used in text analysis, image captioning, sentiment\n",
    "analysis and machine translation. For example, one can use a movie\n",
    "review to understand the feeling the spectator perceived after watching\n",
    "the movie. Automating this task is very useful when the movie company\n",
    "does not have enough time to review, label, consolidate and analyze the\n",
    "reviews. The machine can do the job with a higher level of accuracy.\n",
    "\n",
    "## Limitations of RNN\n",
    "\n",
    "In theory, RNN is supposed to carry the information up to time $t$.\n",
    "However, it is quite challenging to propagate all this information when\n",
    "the time step is too long. When a network has too many deep layers, it\n",
    "becomes untrainable. This problem is called: **vanishing gradient\n",
    "problem**. If you remember, the neural network updates the weight using\n",
    "the gradient descent algorithm. The gradients grow smaller when the\n",
    "network progress down to lower layers.\n",
    "\n",
    "In conclusion, the gradients stay constant meaning there is no space for\n",
    "improvement. The model learns from a change in the gradient; this change\n",
    "affects the network's output. However, if the difference in the gradient\n",
    "is too small (i.e., the weights change a little), the network can't\n",
    "learn anything and so the output. Therefore, a network facing a\n",
    "vanishing gradient problem cannot converge toward a good solution.\n",
    "\n",
    "## Improvement LSMT\n",
    "\n",
    "To overcome the potential issue of vanishing gradient faced by RNN,\n",
    "three researchers, Hochreiter, Schmidhuber and Bengio improved the RNN\n",
    "with an architecture called Long Short-Term Memory (LSTM). In brief,\n",
    "LSMT provides to the network relevant past information to more recent\n",
    "time. The machine uses a better architecture to select and carry\n",
    "information back to later time.\n",
    "\n",
    "LSTM architecture is available in TensorFlow, tf.contrib.rnn.LSTMCell.\n",
    "LSTM is out of the scope of the tutorial. You can refer to the official\n",
    "[documentation](https://www.tensorflow.org/api_docs/python/tf/contrib/rnn/LSTMCell)\n",
    "for further information\n",
    "\n",
    "## RNN in time series\n",
    "\n",
    "In this tutorial, you will use an RNN with time series data. Time series\n",
    "are dependent to previous time which means past values includes relevant\n",
    "information that the network can learn from. The idea behind time series\n",
    "prediction is to estimate the future value of a series, let's say, stock\n",
    "price, temperature, GDP and so on.\n",
    "\n",
    "The data preparation for RNN and time series can be a little bit tricky.\n",
    "First of all, the objective is to predict the next value of the series,\n",
    "meaning, you will use the past information to estimate the value at\n",
    "$t + 1$. The label is equal to the input sequence and shifted one period\n",
    "ahead. Secondly, the number of input is set to 1, i.e., one observation\n",
    "per time. Lastly, the time step is equal to the sequence of the\n",
    "numerical value. For instance, if you set the time step to 10, the input\n",
    "sequence will return ten consecutive times.\n",
    "\n",
    "Look at the graph below, we have represented the time series data on the\n",
    "left and a fictive input sequence on the right. You create a function to\n",
    "return a dataset with random value for each day from January 2001 to\n",
    "December 2016"
   ]
  },
  {
   "cell_type": "code",
   "execution_count": 5,
   "metadata": {},
   "outputs": [
    {
     "data": {
      "text/plain": [
       "2016-08-31   -176.263546\n",
       "2016-09-30   -165.837354\n",
       "2016-10-31   -151.596073\n",
       "2016-11-30   -149.479482\n",
       "2016-12-31   -152.258281\n",
       "Freq: M, dtype: float64"
      ]
     },
     "execution_count": 5,
     "metadata": {},
     "output_type": "execute_result"
    }
   ],
   "source": [
    "# To plot pretty figures\n",
    "%matplotlib inline\n",
    "import matplotlib\n",
    "import matplotlib.pyplot as plt\n",
    "import pandas as pd\n",
    "\n",
    "def create_ts(start = '2001', n = 201, freq = 'M'):\n",
    "    rng = pd.date_range(start=start, periods=n, freq=freq)\n",
    "    ts = pd.Series(np.random.uniform(-18, 18, size=len(rng)), rng).cumsum()\n",
    "    return ts\n",
    "\n",
    "ts= create_ts(start = '2001', n = 192, freq = 'M')\n",
    "ts.tail(5)"
   ]
  },
  {
   "cell_type": "code",
   "execution_count": 20,
   "metadata": {},
   "outputs": [
    {
     "data": {
      "image/png": "[encoded data removed]",
      "text/plain": [
       "<Figure size 792x288 with 2 Axes>"
      ]
     },
     "metadata": {},
     "output_type": "display_data"
    }
   ],
   "source": [
    "ts = create_ts(start = '2001', n = 222)\n",
    "\n",
    "# Left\n",
    "plt.figure(figsize=(11,4))\n",
    "plt.subplot(121)\n",
    "plt.plot(ts.index, ts)\n",
    "plt.plot(ts.index[90:100], ts[90:100], \"b-\", linewidth=3, label=\"A training instance\")\n",
    "plt.title(\"A time series (generated)\", fontsize=14)\n",
    "\n",
    "# Right\n",
    "plt.subplot(122)\n",
    "plt.title(\"A training instance\", fontsize=14)\n",
    "plt.plot(ts.index[90:100], ts[90:100], \"b-\", markersize=8, label=\"instance\")\n",
    "plt.plot(ts.index[91:101], ts[91:101], \"bo\", markersize=10, label=\"target\", markerfacecolor='red')\n",
    "plt.legend(loc=\"upper left\")\n",
    "plt.xlabel(\"Time\")\n",
    "plt.xticks(rotation=90)\n",
    "plt.show()"
   ]
  },
  {
   "cell_type": "markdown",
   "metadata": {},
   "source": [
    "<img src=\"/tensorflow/21_RNN_V3_files/image004.png\" >\n",
    "\n",
    "The right part of the graph shows all series. It starts from 2001 and\n",
    "finishes in 2019 It makes no sense to feed all the data in the network,\n",
    "instead, you need to create a batch of data with a length equal to the\n",
    "time step. This batch will be the X variable. The Y variable is the same\n",
    "as X but shifted by one period (i.e., you want to forecast t+1).\n",
    "\n",
    "Both vectors have the same length. You can see it in the right part of\n",
    "the above graph. The line represents the ten values of the X input,\n",
    "while the red dots are the ten values of the label, Y. Note that, the\n",
    "label starts one period ahead of X and finishes one period after.\n",
    "\n",
    "# Build an RNN to predict Time Series\n",
    "\n",
    "Now, it is time to build your first RNN to predict the series above. You\n",
    "need to specify some hyperparameters (the parameters of the model, i.e.,\n",
    "number of neurons, etc.) for the model:\n",
    "\n",
    "-   Number of input: 1\n",
    "\n",
    "-   Time step (windows in time series): 10\n",
    "\n",
    "-   Number of neurons: 120\n",
    "\n",
    "-   Number of output: 1\n",
    "\n",
    "Your network will learn from a sequence of 10 days and contain 120\n",
    "recurrent neurons. You feed the model with one input, i.e., one day.\n",
    "Feel free to change the values to see if the model improved.\n",
    "\n",
    "Before to construct the model, you need to split the dataset into a\n",
    "train set and test set. The full dataset has 222 data points; you will\n",
    "use the first 201 point to train the model and the last 21 points to\n",
    "test your model.\n",
    "\n",
    "After you define a train and test set, you need to create an object\n",
    "containing the batches. In this batches, you have X values and Y values.\n",
    "Remember that the X values are one period lagged. Therefore, you use the\n",
    "first 200 observations and the time step is equal to 10. The `X_batches`\n",
    "object should contain 20 batches of size 10\\*1. The `y_batches` has the\n",
    "same shape as the `X_batches` object but with one period ahead.\n",
    "\n",
    "**Step 1)** Create the train and test\n",
    "\n",
    "First of all, you convert the series into a numpy array; then you define\n",
    "the windows (i.e., the number of time the network will learn from), the\n",
    "number of input, output and the size of the train set."
   ]
  },
  {
   "cell_type": "code",
   "execution_count": 7,
   "metadata": {},
   "outputs": [],
   "source": [
    "series = np.array(ts)\n",
    "n_windows = 20   \n",
    "n_input =  1\n",
    "n_output = 1\n",
    "size_train = 201"
   ]
  },
  {
   "cell_type": "markdown",
   "metadata": {},
   "source": [
    "After that, you simply split the array into two datasets."
   ]
  },
  {
   "cell_type": "code",
   "execution_count": 8,
   "metadata": {},
   "outputs": [
    {
     "name": "stdout",
     "output_type": "stream",
     "text": [
      "(201,) (21,)\n"
     ]
    }
   ],
   "source": [
    "## Split data\n",
    "train = series[:size_train]\n",
    "test = series[size_train:]\n",
    "\n",
    "print(train.shape, test.shape)\n"
   ]
  },
  {
   "cell_type": "markdown",
   "metadata": {},
   "source": [
    "**Step 2)** Create the function to return `X_batches` and `y_batches`\n",
    "\n",
    "To make it easier, you can create a function that returns two different\n",
    "arrays, one for `X_batches` and one for `y_batches`.\n",
    "\n",
    "Let's write a function to construct the batches.\n",
    "\n",
    "Note that, the X batches are lagged by one period (we take value t-1).\n",
    "The output of the function should have three dimensions. The first\n",
    "dimensions equal the number of batches, the second the size of the\n",
    "windows and last one the number of input.\n",
    "\n",
    "The tricky part is to select the data points correctly. For the X data\n",
    "points, you choose the observations from t = 1 to t =200, while for the\n",
    "Y data point, you return the observations from t = 2 to 201. Once you\n",
    "have the correct data points, it is straightforward to reshape the\n",
    "series.\n",
    "\n",
    "To construct the object with the batches, you need to split the dataset\n",
    "into ten batches of equal length (i.e., 20). You can use the `reshape`\n",
    "method and pass -1 so that the series is similar to the batch size. The\n",
    "value 20 is the number of observations per batch and 1 is the number of\n",
    "input.\n",
    "\n",
    "You need to do the same step but for the label.\n",
    "\n",
    "Note that, you need to shift the data to the number of time you want to\n",
    "forecast. For instance, if you want to predict one timeahead, then you\n",
    "shift the series by 1. If you want to forecast two days, then shift the\n",
    "data by 2.\n",
    "\n",
    "x\\_data = train\\[:size\\_train-1\\]: Select all the training instance\n",
    "minus one day\n",
    "\n",
    "X\\_batches = x\\_data.reshape(-1, windows, input): create the right shape\n",
    "for the batch e.g (10, 20, 1)"
   ]
  },
  {
   "cell_type": "code",
   "execution_count": 9,
   "metadata": {},
   "outputs": [],
   "source": [
    "def create_batches(df, windows, input, output):\n",
    "    ## Create X         \n",
    "        x_data = train[:size_train-1] # Select the data\n",
    "        X_batches = x_data.reshape(-1, windows, input)  # Reshape the data \n",
    "    ## Create y\n",
    "        y_data = train[n_output:size_train]\n",
    "        y_batches = y_data.reshape(-1, windows, output)\n",
    "        return X_batches, y_batches"
   ]
  },
  {
   "cell_type": "markdown",
   "metadata": {},
   "source": [
    "Now that the function is defined, you can call it to create the batches."
   ]
  },
  {
   "cell_type": "code",
   "execution_count": 10,
   "metadata": {},
   "outputs": [],
   "source": [
    "X_batches, y_batches = create_batches(df = train,\n",
    "                                      windows = n_windows,\n",
    "                                      input = n_input,\n",
    "                                      output = n_output)"
   ]
  },
  {
   "cell_type": "markdown",
   "metadata": {},
   "source": [
    "You can print the shape to make sure the dimensions are correct."
   ]
  },
  {
   "cell_type": "code",
   "execution_count": 11,
   "metadata": {},
   "outputs": [
    {
     "name": "stdout",
     "output_type": "stream",
     "text": [
      "(10, 20, 1) (10, 20, 1)\n"
     ]
    }
   ],
   "source": [
    "print(X_batches.shape, y_batches.shape)\n"
   ]
  },
  {
   "cell_type": "markdown",
   "metadata": {},
   "source": [
    "You need to create the test set with only one batch of data and 20\n",
    "observations.\n",
    "\n",
    "Note that, you forecast days after days, it means the second predicted\n",
    "value will be based on the true value of the first day (t+1) of the test\n",
    "dataset. In fact, the true value will be known.\n",
    "\n",
    "If you want to forecast t+2 (i.e., two days ahead), you need to use the\n",
    "predicted value t+1; if you're going to predict t+3 (three days ahead),\n",
    "you need to use the predicted value t+1 and t+2. It makes sense that, it\n",
    "is difficult to predict accurately t+n days ahead."
   ]
  },
  {
   "cell_type": "code",
   "execution_count": 12,
   "metadata": {},
   "outputs": [
    {
     "name": "stdout",
     "output_type": "stream",
     "text": [
      "(10, 20, 1) (10, 20, 1)\n"
     ]
    }
   ],
   "source": [
    "X_test, y_test = create_batches(df = test, windows = 20,input = 1, output = 1)\n",
    "print(X_test.shape, y_test.shape)\n"
   ]
  },
  {
   "cell_type": "markdown",
   "metadata": {},
   "source": [
    "Alright, your batch size is ready, you can build\n",
    "the RNN architecture. Remember, you have 120 recurrent neurons.\n",
    "\n",
    "**Step 3)** Build the model\n",
    "\n",
    "To create the model, you need to define three parts:\n",
    "\n",
    "1.  The variable with the tensors\n",
    "\n",
    "2.  The RNN\n",
    "\n",
    "3.  The loss and optimization\n",
    "\n",
    "**Step 3.1)** Variables\n",
    "\n",
    "You need to specify the `X` and `y` variables with the appropriate\n",
    "shape. This step is trivial. The tensor has the same dimension as the\n",
    "objects `X_batches` and `y_batches`.\n",
    "\n",
    "For instance, the tensor `X` is a `placeholder` (Check the tutorial on\n",
    "[*Introduction to Tensorflow*]to refresh\n",
    "your mind about variable declaration) has three dimensions:\n",
    "\n",
    "-   `Note`: size of the batch\n",
    "\n",
    "-   `n_windows`: Lenght of the windows. i.e., the number of time the\n",
    "    model looks backward\n",
    "\n",
    "-   `n_input`: Number of input\n",
    "\n",
    "The result is: tf.placeholder(tf.float32, \\[None, n\\_windows,\n",
    "n\\_input\\])"
   ]
  },
  {
   "cell_type": "code",
   "execution_count": 13,
   "metadata": {},
   "outputs": [],
   "source": [
    "tf.reset_default_graph()\n",
    "r_neuron = 120    \n",
    "\n",
    "## 1. Construct the tensors\n",
    "X = tf.placeholder(tf.float32, [None, n_windows, n_input])   \n",
    "y = tf.placeholder(tf.float32, [None, n_windows, n_output])"
   ]
  },
  {
   "cell_type": "markdown",
   "metadata": {},
   "source": [
    "**Step 3.2)** Create the RNN\n",
    "\n",
    "In the second part, you need to define the architecture of the network.\n",
    "As before, you use the object `BasicRNNCell` and `dynamic_rnn` from\n",
    "TensorFlow estimator."
   ]
  },
  {
   "cell_type": "code",
   "execution_count": 14,
   "metadata": {},
   "outputs": [],
   "source": [
    "## 2. create the model\n",
    "basic_cell = tf.contrib.rnn.BasicRNNCell(num_units=r_neuron, activation=tf.nn.relu)   \n",
    "rnn_output, states = tf.nn.dynamic_rnn(basic_cell, X, dtype=tf.float32)   "
   ]
  },
  {
   "cell_type": "markdown",
   "metadata": {},
   "source": [
    "The next part is a bit trickier but allows faster computation. You need to transform the run output to a dense layer and then convert it again to have the same dimension as the input."
   ]
  },
  {
   "cell_type": "code",
   "execution_count": 15,
   "metadata": {},
   "outputs": [],
   "source": [
    "stacked_rnn_output = tf.reshape(rnn_output, [-1, r_neuron])          \n",
    "stacked_outputs = tf.layers.dense(stacked_rnn_output, n_output)       \n",
    "outputs = tf.reshape(stacked_outputs, [-1, n_windows, n_output])  "
   ]
  },
  {
   "cell_type": "markdown",
   "metadata": {},
   "source": [
    "**Step 3.3)** Create the loss and optimization\n",
    "\n",
    "The model optimization depends of the task you are performing. In the\n",
    "previous tutorial on CNN, your objective was to classify images, in this\n",
    "tutorial, the objective is slightly different. You are asked to make a\n",
    "prediction on a continuous variable compare to a class.\n",
    "\n",
    "This difference is important because it will change the optimization\n",
    "problem. The optimization problem for a continuous variable is to\n",
    "minimize the mean square error. To construct these metrics in TF, you\n",
    "can use:\n",
    "\n",
    "-   `tf.reduce_sum(tf.square(outputs - y))`\n",
    "\n",
    "The remaining of the code is the same as before; you use an Adam\n",
    "optimizer to reduce the loss (i.e., MSE):\n",
    "\n",
    "-   `tf.train.AdamOptimizer(learning_rate=learning_rate)`\n",
    "\n",
    "-   `optimizer.minimize(loss)`\n",
    "\n",
    "That's it, you can pack everything together, and your model is ready to\n",
    "train."
   ]
  },
  {
   "cell_type": "code",
   "execution_count": 16,
   "metadata": {},
   "outputs": [],
   "source": [
    "tf.reset_default_graph()\n",
    "r_neuron = 120    \n",
    "\n",
    "## 1. Construct the tensors\n",
    "X = tf.placeholder(tf.float32, [None, n_windows, n_input])   \n",
    "y = tf.placeholder(tf.float32, [None, n_windows, n_output])\n",
    "\n",
    "## 2. create the model\n",
    "basic_cell = tf.contrib.rnn.BasicRNNCell(num_units=r_neuron, activation=tf.nn.relu)   \n",
    "rnn_output, states = tf.nn.dynamic_rnn(basic_cell, X, dtype=tf.float32)              \n",
    "\n",
    "stacked_rnn_output = tf.reshape(rnn_output, [-1, r_neuron])          \n",
    "stacked_outputs = tf.layers.dense(stacked_rnn_output, n_output)       \n",
    "outputs = tf.reshape(stacked_outputs, [-1, n_windows, n_output])   \n",
    "\n",
    "## 3. Loss + optimization\n",
    "learning_rate = 0.001  \n",
    " \n",
    "loss = tf.reduce_sum(tf.square(outputs - y))    \n",
    "optimizer = tf.train.AdamOptimizer(learning_rate=learning_rate)         \n",
    "training_op = optimizer.minimize(loss)                                          \n",
    "\n",
    "init = tf.global_variables_initializer() "
   ]
  },
  {
   "cell_type": "markdown",
   "metadata": {},
   "source": [
    "You will train the model using 1500 epochs and print the loss every 150\n",
    "iterations. Once the model is trained, you evaluate the model on the\n",
    "test set and create an object containing the predictions."
   ]
  },
  {
   "cell_type": "code",
   "execution_count": 17,
   "metadata": {},
   "outputs": [
    {
     "name": "stdout",
     "output_type": "stream",
     "text": [
      "0 \tMSE: 1222355.2\n",
      "150 \tMSE: 22525.219\n",
      "300 \tMSE: 5616.1104\n",
      "450 \tMSE: 3989.6023\n",
      "600 \tMSE: 2953.5967\n",
      "750 \tMSE: 2524.6467\n",
      "900 \tMSE: 2352.9365\n",
      "1050 \tMSE: 2279.5442\n",
      "1200 \tMSE: 1920.8456\n",
      "1350 \tMSE: 1880.6625\n"
     ]
    }
   ],
   "source": [
    "iteration = 1500 \n",
    "\n",
    "with tf.Session() as sess:\n",
    "    init.run()\n",
    "    for iters in range(iteration):\n",
    "        sess.run(training_op, feed_dict={X: X_batches, y: y_batches})\n",
    "        if iters % 150 == 0:\n",
    "            mse = loss.eval(feed_dict={X: X_batches, y: y_batches})\n",
    "            print(iters, \"\\tMSE:\", mse)\n",
    "    \n",
    "    y_pred = sess.run(outputs, feed_dict={X: X_test})\n"
   ]
  },
  {
   "cell_type": "markdown",
   "metadata": {},
   "source": [
    "At last, you can plot the actual value of the series with the predicted\n",
    "value. If your model is corrected, the predicted values should be put on\n",
    "top of the actual values.\n",
    "\n",
    "As you can see, the model has room of improvement. It is up to you to\n",
    "change the hyperparameters like the windows, the batch size of the\n",
    "number of recurrent neurons."
   ]
  },
  {
   "cell_type": "code",
   "execution_count": 18,
   "metadata": {},
   "outputs": [
    {
     "data": {
      "image/png": "[encoded data removed]",
      "text/plain": [
       "<Figure size 432x288 with 1 Axes>"
      ]
     },
     "metadata": {},
     "output_type": "display_data"
    }
   ],
   "source": [
    "plt.title(\"Forecast vs Actual\", fontsize=14)\n",
    "plt.plot(pd.Series(np.ravel(y_test)), \"bo\", markersize=8, label=\"Actual\", color='green')\n",
    "plt.plot(pd.Series(np.ravel(y_pred)), \"r.\", markersize=8, label=\"Forecast\", color='red')\n",
    "plt.legend(loc=\"lower left\")\n",
    "plt.xlabel(\"Time\")\n",
    "\n",
    "plt.show()"
   ]
  },
  {
   "cell_type": "markdown",
   "metadata": {},
   "source": [
    "<img src=\"/tensorflow/21_RNN_V3_files/image005.png\" >\n",
    "\n",
    "## Summary\n",
    "\n",
    "A recurrent neural network is a robust architecture to deal with time\n",
    "series or text analysis. The output of the previous state is feedback to\n",
    "preserve the memory of the network over time or sequence of words.\n",
    "\n",
    "In TensorFlow, you can use the following codes to train a recurrent\n",
    "neural network for time series:\n",
    "\n",
    "## Parameters of the model\n",
    "\n",
    "n\\_windows = 20\\\n",
    "n\\_input = 1\\\n",
    "n\\_output = 1\\\n",
    "size\\_train = 201\n",
    "\n",
    "## Define the model\n",
    "\n",
    "X = tf.placeholder(tf.float32, \\[None, n\\_windows, n\\_input\\])\\\n",
    "y = tf.placeholder(tf.float32, \\[None, n\\_windows, n\\_output\\])\\\n",
    "\\\n",
    "basic\\_cell = tf.contrib.rnn.BasicRNNCell(num\\_units=r\\_neuron,\n",
    "activation=tf.nn.relu)\\\n",
    "rnn\\_output, states = tf.nn.dynamic\\_rnn(basic\\_cell, X,\n",
    "dtype=tf.float32)\\\n",
    "\\\n",
    "stacked\\_rnn\\_output = tf.reshape(rnn\\_output, \\[-1, r\\_neuron\\])\\\n",
    "stacked\\_outputs = tf.layers.dense(stacked\\_rnn\\_output, n\\_output)\\\n",
    "outputs = tf.reshape(stacked\\_outputs, \\[-1, n\\_windows, n\\_output\\])\n",
    "\n",
    "## Construct the optimization\n",
    "\n",
    "learning\\_rate = 0.001\\\n",
    "\\\n",
    "loss = tf.reduce\\_sum(tf.square(outputs - y))\\\n",
    "optimizer = tf.train.AdamOptimizer(learning\\_rate=learning\\_rate)\\\n",
    "training\\_op = optimizer.minimize(loss)\n",
    "\n",
    "## Train the model\n",
    "\n",
    "init = tf.global\\_variables\\_initializer()"
   ]
  },
  {
   "cell_type": "code",
   "execution_count": 19,
   "metadata": {},
   "outputs": [
    {
     "name": "stdout",
     "output_type": "stream",
     "text": [
      "0 \tMSE: 1316715.0\n",
      "150 \tMSE: 16851.748\n",
      "300 \tMSE: 4320.849\n",
      "450 \tMSE: 3591.8545\n",
      "600 \tMSE: 2617.3887\n",
      "750 \tMSE: 2094.8538\n",
      "900 \tMSE: 1889.6978\n",
      "1050 \tMSE: 1819.7141\n",
      "1200 \tMSE: 1754.1106\n",
      "1350 \tMSE: 1663.1593\n"
     ]
    }
   ],
   "source": [
    "iteration = 1500 \n",
    "\n",
    "with tf.Session() as sess:\n",
    "    init.run()\n",
    "    for iters in range(iteration):\n",
    "        sess.run(training_op, feed_dict={X: X_batches, y: y_batches})\n",
    "        if iters % 150 == 0:\n",
    "            mse = loss.eval(feed_dict={X: X_batches, y: y_batches})\n",
    "            print(iters, \"\\tMSE:\", mse)\n",
    "    \n",
    "    y_pred = sess.run(outputs, feed_dict={X: X_test})"
   ]
  }
 ],
 "metadata": {
  "kernelspec": {
   "display_name": "Python 3",
   "language": "python",
   "name": "python3"
  },
  "language_info": {
   "codemirror_mode": {
    "name": "ipython",
    "version": 3
   },
   "file_extension": ".py",
   "mimetype": "text/x-python",
   "name": "python",
   "nbconvert_exporter": "python",
   "pygments_lexer": "ipython3",
   "version": "3.6.6"
  }
 },
 "nbformat": 4,
 "nbformat_minor": 2
}
